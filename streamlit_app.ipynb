{
  "nbformat": 4,
  "nbformat_minor": 0,
  "metadata": {
    "colab": {
      "provenance": [],
      "authorship_tag": "ABX9TyPYlh1J3ClXf+SrqBA7DVnR",
      "include_colab_link": true
    },
    "kernelspec": {
      "name": "python3",
      "display_name": "Python 3"
    },
    "language_info": {
      "name": "python"
    }
  },
  "cells": [
    {
      "cell_type": "markdown",
      "metadata": {
        "id": "view-in-github",
        "colab_type": "text"
      },
      "source": [
        "<a href=\"https://colab.research.google.com/github/hajyhia/Plant-Diseases-Classification/blob/main/Streamlit.ipynb\" target=\"_parent\"><img src=\"https://colab.research.google.com/assets/colab-badge.svg\" alt=\"Open In Colab\"/></a>"
      ]
    },
    {
      "cell_type": "code",
      "source": [
        "!pip install streamlit pyngrok\n",
        "!pip install gdown\n",
        "!pip install tensorflow\n",
        "!pip install keras\n",
        "!pip install numpy\n",
        "!pip install pillow\n",
        "!pip install pyngrok"
      ],
      "metadata": {
        "colab": {
          "base_uri": "https://localhost:8080/"
        },
        "id": "DcJLxc6EXlPN",
        "outputId": "2bb1de9a-7b40-4cfa-b2c1-12479874708e"
      },
      "execution_count": 1,
      "outputs": [
        {
          "output_type": "stream",
          "name": "stdout",
          "text": [
            "Collecting streamlit\n",
            "  Downloading streamlit-1.45.1-py3-none-any.whl.metadata (8.9 kB)\n",
            "Collecting pyngrok\n",
            "  Downloading pyngrok-7.2.11-py3-none-any.whl.metadata (9.4 kB)\n",
            "Requirement already satisfied: altair<6,>=4.0 in /usr/local/lib/python3.11/dist-packages (from streamlit) (5.5.0)\n",
            "Requirement already satisfied: blinker<2,>=1.5.0 in /usr/local/lib/python3.11/dist-packages (from streamlit) (1.9.0)\n",
            "Requirement already satisfied: cachetools<6,>=4.0 in /usr/local/lib/python3.11/dist-packages (from streamlit) (5.5.2)\n",
            "Requirement already satisfied: click<9,>=7.0 in /usr/local/lib/python3.11/dist-packages (from streamlit) (8.2.1)\n",
            "Requirement already satisfied: numpy<3,>=1.23 in /usr/local/lib/python3.11/dist-packages (from streamlit) (2.0.2)\n",
            "Requirement already satisfied: packaging<25,>=20 in /usr/local/lib/python3.11/dist-packages (from streamlit) (24.2)\n",
            "Requirement already satisfied: pandas<3,>=1.4.0 in /usr/local/lib/python3.11/dist-packages (from streamlit) (2.2.2)\n",
            "Requirement already satisfied: pillow<12,>=7.1.0 in /usr/local/lib/python3.11/dist-packages (from streamlit) (11.2.1)\n",
            "Requirement already satisfied: protobuf<7,>=3.20 in /usr/local/lib/python3.11/dist-packages (from streamlit) (5.29.5)\n",
            "Requirement already satisfied: pyarrow>=7.0 in /usr/local/lib/python3.11/dist-packages (from streamlit) (18.1.0)\n",
            "Requirement already satisfied: requests<3,>=2.27 in /usr/local/lib/python3.11/dist-packages (from streamlit) (2.32.3)\n",
            "Requirement already satisfied: tenacity<10,>=8.1.0 in /usr/local/lib/python3.11/dist-packages (from streamlit) (9.1.2)\n",
            "Requirement already satisfied: toml<2,>=0.10.1 in /usr/local/lib/python3.11/dist-packages (from streamlit) (0.10.2)\n",
            "Requirement already satisfied: typing-extensions<5,>=4.4.0 in /usr/local/lib/python3.11/dist-packages (from streamlit) (4.14.0)\n",
            "Collecting watchdog<7,>=2.1.5 (from streamlit)\n",
            "  Downloading watchdog-6.0.0-py3-none-manylinux2014_x86_64.whl.metadata (44 kB)\n",
            "\u001b[2K     \u001b[90m━━━━━━━━━━━━━━━━━━━━━━━━━━━━━━━━━━━━━━━━\u001b[0m \u001b[32m44.3/44.3 kB\u001b[0m \u001b[31m1.5 MB/s\u001b[0m eta \u001b[36m0:00:00\u001b[0m\n",
            "\u001b[?25hRequirement already satisfied: gitpython!=3.1.19,<4,>=3.0.7 in /usr/local/lib/python3.11/dist-packages (from streamlit) (3.1.44)\n",
            "Collecting pydeck<1,>=0.8.0b4 (from streamlit)\n",
            "  Downloading pydeck-0.9.1-py2.py3-none-any.whl.metadata (4.1 kB)\n",
            "Requirement already satisfied: tornado<7,>=6.0.3 in /usr/local/lib/python3.11/dist-packages (from streamlit) (6.4.2)\n",
            "Requirement already satisfied: PyYAML>=5.1 in /usr/local/lib/python3.11/dist-packages (from pyngrok) (6.0.2)\n",
            "Requirement already satisfied: jinja2 in /usr/local/lib/python3.11/dist-packages (from altair<6,>=4.0->streamlit) (3.1.6)\n",
            "Requirement already satisfied: jsonschema>=3.0 in /usr/local/lib/python3.11/dist-packages (from altair<6,>=4.0->streamlit) (4.24.0)\n",
            "Requirement already satisfied: narwhals>=1.14.2 in /usr/local/lib/python3.11/dist-packages (from altair<6,>=4.0->streamlit) (1.41.0)\n",
            "Requirement already satisfied: gitdb<5,>=4.0.1 in /usr/local/lib/python3.11/dist-packages (from gitpython!=3.1.19,<4,>=3.0.7->streamlit) (4.0.12)\n",
            "Requirement already satisfied: python-dateutil>=2.8.2 in /usr/local/lib/python3.11/dist-packages (from pandas<3,>=1.4.0->streamlit) (2.9.0.post0)\n",
            "Requirement already satisfied: pytz>=2020.1 in /usr/local/lib/python3.11/dist-packages (from pandas<3,>=1.4.0->streamlit) (2025.2)\n",
            "Requirement already satisfied: tzdata>=2022.7 in /usr/local/lib/python3.11/dist-packages (from pandas<3,>=1.4.0->streamlit) (2025.2)\n",
            "Requirement already satisfied: charset-normalizer<4,>=2 in /usr/local/lib/python3.11/dist-packages (from requests<3,>=2.27->streamlit) (3.4.2)\n",
            "Requirement already satisfied: idna<4,>=2.5 in /usr/local/lib/python3.11/dist-packages (from requests<3,>=2.27->streamlit) (3.10)\n",
            "Requirement already satisfied: urllib3<3,>=1.21.1 in /usr/local/lib/python3.11/dist-packages (from requests<3,>=2.27->streamlit) (2.4.0)\n",
            "Requirement already satisfied: certifi>=2017.4.17 in /usr/local/lib/python3.11/dist-packages (from requests<3,>=2.27->streamlit) (2025.4.26)\n",
            "Requirement already satisfied: smmap<6,>=3.0.1 in /usr/local/lib/python3.11/dist-packages (from gitdb<5,>=4.0.1->gitpython!=3.1.19,<4,>=3.0.7->streamlit) (5.0.2)\n",
            "Requirement already satisfied: MarkupSafe>=2.0 in /usr/local/lib/python3.11/dist-packages (from jinja2->altair<6,>=4.0->streamlit) (3.0.2)\n",
            "Requirement already satisfied: attrs>=22.2.0 in /usr/local/lib/python3.11/dist-packages (from jsonschema>=3.0->altair<6,>=4.0->streamlit) (25.3.0)\n",
            "Requirement already satisfied: jsonschema-specifications>=2023.03.6 in /usr/local/lib/python3.11/dist-packages (from jsonschema>=3.0->altair<6,>=4.0->streamlit) (2025.4.1)\n",
            "Requirement already satisfied: referencing>=0.28.4 in /usr/local/lib/python3.11/dist-packages (from jsonschema>=3.0->altair<6,>=4.0->streamlit) (0.36.2)\n",
            "Requirement already satisfied: rpds-py>=0.7.1 in /usr/local/lib/python3.11/dist-packages (from jsonschema>=3.0->altair<6,>=4.0->streamlit) (0.25.1)\n",
            "Requirement already satisfied: six>=1.5 in /usr/local/lib/python3.11/dist-packages (from python-dateutil>=2.8.2->pandas<3,>=1.4.0->streamlit) (1.17.0)\n",
            "Downloading streamlit-1.45.1-py3-none-any.whl (9.9 MB)\n",
            "\u001b[2K   \u001b[90m━━━━━━━━━━━━━━━━━━━━━━━━━━━━━━━━━━━━━━━━\u001b[0m \u001b[32m9.9/9.9 MB\u001b[0m \u001b[31m22.8 MB/s\u001b[0m eta \u001b[36m0:00:00\u001b[0m\n",
            "\u001b[?25hDownloading pyngrok-7.2.11-py3-none-any.whl (25 kB)\n",
            "Downloading pydeck-0.9.1-py2.py3-none-any.whl (6.9 MB)\n",
            "\u001b[2K   \u001b[90m━━━━━━━━━━━━━━━━━━━━━━━━━━━━━━━━━━━━━━━━\u001b[0m \u001b[32m6.9/6.9 MB\u001b[0m \u001b[31m26.2 MB/s\u001b[0m eta \u001b[36m0:00:00\u001b[0m\n",
            "\u001b[?25hDownloading watchdog-6.0.0-py3-none-manylinux2014_x86_64.whl (79 kB)\n",
            "\u001b[2K   \u001b[90m━━━━━━━━━━━━━━━━━━━━━━━━━━━━━━━━━━━━━━━━\u001b[0m \u001b[32m79.1/79.1 kB\u001b[0m \u001b[31m5.1 MB/s\u001b[0m eta \u001b[36m0:00:00\u001b[0m\n",
            "\u001b[?25hInstalling collected packages: watchdog, pyngrok, pydeck, streamlit\n",
            "Successfully installed pydeck-0.9.1 pyngrok-7.2.11 streamlit-1.45.1 watchdog-6.0.0\n",
            "Requirement already satisfied: gdown in /usr/local/lib/python3.11/dist-packages (5.2.0)\n",
            "Requirement already satisfied: beautifulsoup4 in /usr/local/lib/python3.11/dist-packages (from gdown) (4.13.4)\n",
            "Requirement already satisfied: filelock in /usr/local/lib/python3.11/dist-packages (from gdown) (3.18.0)\n",
            "Requirement already satisfied: requests[socks] in /usr/local/lib/python3.11/dist-packages (from gdown) (2.32.3)\n",
            "Requirement already satisfied: tqdm in /usr/local/lib/python3.11/dist-packages (from gdown) (4.67.1)\n",
            "Requirement already satisfied: soupsieve>1.2 in /usr/local/lib/python3.11/dist-packages (from beautifulsoup4->gdown) (2.7)\n",
            "Requirement already satisfied: typing-extensions>=4.0.0 in /usr/local/lib/python3.11/dist-packages (from beautifulsoup4->gdown) (4.14.0)\n",
            "Requirement already satisfied: charset-normalizer<4,>=2 in /usr/local/lib/python3.11/dist-packages (from requests[socks]->gdown) (3.4.2)\n",
            "Requirement already satisfied: idna<4,>=2.5 in /usr/local/lib/python3.11/dist-packages (from requests[socks]->gdown) (3.10)\n",
            "Requirement already satisfied: urllib3<3,>=1.21.1 in /usr/local/lib/python3.11/dist-packages (from requests[socks]->gdown) (2.4.0)\n",
            "Requirement already satisfied: certifi>=2017.4.17 in /usr/local/lib/python3.11/dist-packages (from requests[socks]->gdown) (2025.4.26)\n",
            "Requirement already satisfied: PySocks!=1.5.7,>=1.5.6 in /usr/local/lib/python3.11/dist-packages (from requests[socks]->gdown) (1.7.1)\n",
            "Requirement already satisfied: tensorflow in /usr/local/lib/python3.11/dist-packages (2.18.0)\n",
            "Requirement already satisfied: absl-py>=1.0.0 in /usr/local/lib/python3.11/dist-packages (from tensorflow) (1.4.0)\n",
            "Requirement already satisfied: astunparse>=1.6.0 in /usr/local/lib/python3.11/dist-packages (from tensorflow) (1.6.3)\n",
            "Requirement already satisfied: flatbuffers>=24.3.25 in /usr/local/lib/python3.11/dist-packages (from tensorflow) (25.2.10)\n",
            "Requirement already satisfied: gast!=0.5.0,!=0.5.1,!=0.5.2,>=0.2.1 in /usr/local/lib/python3.11/dist-packages (from tensorflow) (0.6.0)\n",
            "Requirement already satisfied: google-pasta>=0.1.1 in /usr/local/lib/python3.11/dist-packages (from tensorflow) (0.2.0)\n",
            "Requirement already satisfied: libclang>=13.0.0 in /usr/local/lib/python3.11/dist-packages (from tensorflow) (18.1.1)\n",
            "Requirement already satisfied: opt-einsum>=2.3.2 in /usr/local/lib/python3.11/dist-packages (from tensorflow) (3.4.0)\n",
            "Requirement already satisfied: packaging in /usr/local/lib/python3.11/dist-packages (from tensorflow) (24.2)\n",
            "Requirement already satisfied: protobuf!=4.21.0,!=4.21.1,!=4.21.2,!=4.21.3,!=4.21.4,!=4.21.5,<6.0.0dev,>=3.20.3 in /usr/local/lib/python3.11/dist-packages (from tensorflow) (5.29.5)\n",
            "Requirement already satisfied: requests<3,>=2.21.0 in /usr/local/lib/python3.11/dist-packages (from tensorflow) (2.32.3)\n",
            "Requirement already satisfied: setuptools in /usr/local/lib/python3.11/dist-packages (from tensorflow) (75.2.0)\n",
            "Requirement already satisfied: six>=1.12.0 in /usr/local/lib/python3.11/dist-packages (from tensorflow) (1.17.0)\n",
            "Requirement already satisfied: termcolor>=1.1.0 in /usr/local/lib/python3.11/dist-packages (from tensorflow) (3.1.0)\n",
            "Requirement already satisfied: typing-extensions>=3.6.6 in /usr/local/lib/python3.11/dist-packages (from tensorflow) (4.14.0)\n",
            "Requirement already satisfied: wrapt>=1.11.0 in /usr/local/lib/python3.11/dist-packages (from tensorflow) (1.17.2)\n",
            "Requirement already satisfied: grpcio<2.0,>=1.24.3 in /usr/local/lib/python3.11/dist-packages (from tensorflow) (1.72.1)\n",
            "Requirement already satisfied: tensorboard<2.19,>=2.18 in /usr/local/lib/python3.11/dist-packages (from tensorflow) (2.18.0)\n",
            "Requirement already satisfied: keras>=3.5.0 in /usr/local/lib/python3.11/dist-packages (from tensorflow) (3.8.0)\n",
            "Requirement already satisfied: numpy<2.1.0,>=1.26.0 in /usr/local/lib/python3.11/dist-packages (from tensorflow) (2.0.2)\n",
            "Requirement already satisfied: h5py>=3.11.0 in /usr/local/lib/python3.11/dist-packages (from tensorflow) (3.13.0)\n",
            "Requirement already satisfied: ml-dtypes<0.5.0,>=0.4.0 in /usr/local/lib/python3.11/dist-packages (from tensorflow) (0.4.1)\n",
            "Requirement already satisfied: tensorflow-io-gcs-filesystem>=0.23.1 in /usr/local/lib/python3.11/dist-packages (from tensorflow) (0.37.1)\n",
            "Requirement already satisfied: wheel<1.0,>=0.23.0 in /usr/local/lib/python3.11/dist-packages (from astunparse>=1.6.0->tensorflow) (0.45.1)\n",
            "Requirement already satisfied: rich in /usr/local/lib/python3.11/dist-packages (from keras>=3.5.0->tensorflow) (13.9.4)\n",
            "Requirement already satisfied: namex in /usr/local/lib/python3.11/dist-packages (from keras>=3.5.0->tensorflow) (0.1.0)\n",
            "Requirement already satisfied: optree in /usr/local/lib/python3.11/dist-packages (from keras>=3.5.0->tensorflow) (0.16.0)\n",
            "Requirement already satisfied: charset-normalizer<4,>=2 in /usr/local/lib/python3.11/dist-packages (from requests<3,>=2.21.0->tensorflow) (3.4.2)\n",
            "Requirement already satisfied: idna<4,>=2.5 in /usr/local/lib/python3.11/dist-packages (from requests<3,>=2.21.0->tensorflow) (3.10)\n",
            "Requirement already satisfied: urllib3<3,>=1.21.1 in /usr/local/lib/python3.11/dist-packages (from requests<3,>=2.21.0->tensorflow) (2.4.0)\n",
            "Requirement already satisfied: certifi>=2017.4.17 in /usr/local/lib/python3.11/dist-packages (from requests<3,>=2.21.0->tensorflow) (2025.4.26)\n",
            "Requirement already satisfied: markdown>=2.6.8 in /usr/local/lib/python3.11/dist-packages (from tensorboard<2.19,>=2.18->tensorflow) (3.8)\n",
            "Requirement already satisfied: tensorboard-data-server<0.8.0,>=0.7.0 in /usr/local/lib/python3.11/dist-packages (from tensorboard<2.19,>=2.18->tensorflow) (0.7.2)\n",
            "Requirement already satisfied: werkzeug>=1.0.1 in /usr/local/lib/python3.11/dist-packages (from tensorboard<2.19,>=2.18->tensorflow) (3.1.3)\n",
            "Requirement already satisfied: MarkupSafe>=2.1.1 in /usr/local/lib/python3.11/dist-packages (from werkzeug>=1.0.1->tensorboard<2.19,>=2.18->tensorflow) (3.0.2)\n",
            "Requirement already satisfied: markdown-it-py>=2.2.0 in /usr/local/lib/python3.11/dist-packages (from rich->keras>=3.5.0->tensorflow) (3.0.0)\n",
            "Requirement already satisfied: pygments<3.0.0,>=2.13.0 in /usr/local/lib/python3.11/dist-packages (from rich->keras>=3.5.0->tensorflow) (2.19.1)\n",
            "Requirement already satisfied: mdurl~=0.1 in /usr/local/lib/python3.11/dist-packages (from markdown-it-py>=2.2.0->rich->keras>=3.5.0->tensorflow) (0.1.2)\n",
            "Requirement already satisfied: keras in /usr/local/lib/python3.11/dist-packages (3.8.0)\n",
            "Requirement already satisfied: absl-py in /usr/local/lib/python3.11/dist-packages (from keras) (1.4.0)\n",
            "Requirement already satisfied: numpy in /usr/local/lib/python3.11/dist-packages (from keras) (2.0.2)\n",
            "Requirement already satisfied: rich in /usr/local/lib/python3.11/dist-packages (from keras) (13.9.4)\n",
            "Requirement already satisfied: namex in /usr/local/lib/python3.11/dist-packages (from keras) (0.1.0)\n",
            "Requirement already satisfied: h5py in /usr/local/lib/python3.11/dist-packages (from keras) (3.13.0)\n",
            "Requirement already satisfied: optree in /usr/local/lib/python3.11/dist-packages (from keras) (0.16.0)\n",
            "Requirement already satisfied: ml-dtypes in /usr/local/lib/python3.11/dist-packages (from keras) (0.4.1)\n",
            "Requirement already satisfied: packaging in /usr/local/lib/python3.11/dist-packages (from keras) (24.2)\n",
            "Requirement already satisfied: typing-extensions>=4.6.0 in /usr/local/lib/python3.11/dist-packages (from optree->keras) (4.14.0)\n",
            "Requirement already satisfied: markdown-it-py>=2.2.0 in /usr/local/lib/python3.11/dist-packages (from rich->keras) (3.0.0)\n",
            "Requirement already satisfied: pygments<3.0.0,>=2.13.0 in /usr/local/lib/python3.11/dist-packages (from rich->keras) (2.19.1)\n",
            "Requirement already satisfied: mdurl~=0.1 in /usr/local/lib/python3.11/dist-packages (from markdown-it-py>=2.2.0->rich->keras) (0.1.2)\n",
            "Requirement already satisfied: numpy in /usr/local/lib/python3.11/dist-packages (2.0.2)\n",
            "Requirement already satisfied: pillow in /usr/local/lib/python3.11/dist-packages (11.2.1)\n",
            "Requirement already satisfied: pyngrok in /usr/local/lib/python3.11/dist-packages (7.2.11)\n",
            "Requirement already satisfied: PyYAML>=5.1 in /usr/local/lib/python3.11/dist-packages (from pyngrok) (6.0.2)\n"
          ]
        }
      ]
    },
    {
      "cell_type": "code",
      "source": [
        "import os\n",
        "import gdown\n",
        "\n",
        "file_id = '1ArPM3W6AxKOEAy823-YXLTgE7O51FEd3'# '1m9OE6332qORvAMsoctDS7JofrbiVsk6R'  # replace with your actual file ID\n",
        "url = f'https://drive.google.com/uc?export=download&id={file_id}'\n",
        "\n",
        "os.makedirs('/content/working', exist_ok=True)\n",
        "\n",
        "# Output file name\n",
        "output = '/content/working/diseases_labels'\n",
        "\n",
        "if not os.path.exists(output):\n",
        "  gdown.download(url, output, quiet=False)\n",
        "  print(f\"\\nDownloading File {output} ...\")\n",
        "else:\n",
        "  print(f\"File found at {output}\")\n",
        "\n",
        "with open(output, \"r\") as f:\n",
        "  class_labels = [line.strip() for line in f ]\n",
        "\n",
        "print('\\n'.join(class_labels))"
      ],
      "metadata": {
        "colab": {
          "base_uri": "https://localhost:8080/"
        },
        "id": "5SoQez1Ndy1z",
        "outputId": "fa2dbc41-e334-4f20-c28b-3327dec119a3"
      },
      "execution_count": 2,
      "outputs": [
        {
          "output_type": "stream",
          "name": "stderr",
          "text": [
            "Downloading...\n",
            "From: https://drive.google.com/uc?export=download&id=1ArPM3W6AxKOEAy823-YXLTgE7O51FEd3\n",
            "To: /content/working/diseases_labels\n",
            "100%|██████████| 984/984 [00:00<00:00, 2.52MB/s]"
          ]
        },
        {
          "output_type": "stream",
          "name": "stdout",
          "text": [
            "\n",
            "Downloading File /content/working/diseases_labels ...\n",
            "Apple___Apple_scab\n",
            "Apple___Black_rot\n",
            "Apple___Cedar_apple_rust\n",
            "Apple___healthy\n",
            "Blueberry___healthy\n",
            "Cherry_(including_sour)___Powdery_mildew\n",
            "Cherry_(including_sour)___healthy\n",
            "Corn_(maize)___Cercospora_leaf_spot Gray_leaf_spot\n",
            "Corn_(maize)___Common_rust_\n",
            "Corn_(maize)___Northern_Leaf_Blight\n",
            "Corn_(maize)___healthy\n",
            "Grape___Black_rot\n",
            "Grape___Esca_(Black_Measles)\n",
            "Grape___Leaf_blight_(Isariopsis_Leaf_Spot)\n",
            "Grape___healthy\n",
            "Orange___Haunglongbing_(Citrus_greening)\n",
            "Peach___Bacterial_spot\n",
            "Peach___healthy\n",
            "Pepper,_bell___Bacterial_spot\n",
            "Pepper,_bell___healthy\n",
            "Potato___Early_blight\n",
            "Potato___Late_blight\n",
            "Potato___healthy\n",
            "Raspberry___healthy\n",
            "Soybean___healthy\n",
            "Squash___Powdery_mildew\n",
            "Strawberry___Leaf_scorch\n",
            "Strawberry___healthy\n",
            "Tomato___Bacterial_spot\n",
            "Tomato___Early_blight\n",
            "Tomato___Late_blight\n",
            "Tomato___Leaf_Mold\n",
            "Tomato___Septoria_leaf_spot\n",
            "Tomato___Spider_mites Two-spotted_spider_mite\n",
            "Tomato___Target_Spot\n",
            "Tomato___Tomato_Yellow_Leaf_Curl_Virus\n",
            "Tomato___Tomato_mosaic_virus\n",
            "Tomato___healthy\n"
          ]
        },
        {
          "output_type": "stream",
          "name": "stderr",
          "text": [
            "\n"
          ]
        }
      ]
    },
    {
      "cell_type": "code",
      "source": [
        "import tensorflow as tf\n",
        "from tensorflow.keras.preprocessing.image import ImageDataGenerator\n",
        "from tensorflow.keras.models import Sequential\n",
        "from tensorflow.keras.layers import Conv2D, MaxPooling2D, Flatten, Dense, Dropout\n",
        "from keras.models import load_model\n",
        "import numpy as np\n",
        "import os\n",
        "import gdown\n",
        "import warnings\n",
        "warnings.filterwarnings('ignore')\n",
        "print('compelet')\n",
        "\n",
        "\n",
        "file_id = '1IsZ2HP579LtWvQfmMp3fGMFiDaJfrWS5'  # replace with your actual file ID\n",
        "url = f'https://drive.google.com/uc?export=download&id={file_id}'\n",
        "\n",
        "os.makedirs('/content/working', exist_ok=True)\n",
        "\n",
        "# Output file name\n",
        "output = '/content/working/ai_crops_model.keras'\n",
        "\n",
        "if not os.path.exists(output):\n",
        "  gdown.download(url, output, quiet=False)\n",
        "  print(f\"Downloading File {output} ...\")\n",
        "else:\n",
        "  print(f\"File found at {output}\")\n",
        "\n",
        "if os.path.exists(output):\n",
        "  print(\"Attempting to load the Crop Disease Detection Model {{output}}.\")\n",
        "\n",
        "  model = load_model(output)\n",
        "  print(\"The Crop Disease Detection Model loaded successfully!\")\n",
        "  print(\"Model summary:\")\n",
        "\n",
        "  # Display model summary as text\n",
        "  stringlist = []\n",
        "  model.summary(print_fn=lambda x: stringlist.append(x))\n",
        "  summary = \"\\n\".join(stringlist)\n",
        "  print(summary)\n",
        "\n",
        "else:\n",
        "  st.error(f\"File not found at {output}\")\n",
        "\n",
        "  # Optionally remove the temp file\n",
        "  # os.remove(tmp_path)\n"
      ],
      "metadata": {
        "colab": {
          "base_uri": "https://localhost:8080/",
          "height": 1000
        },
        "id": "ADEX-f3Lg8TF",
        "outputId": "93c79f4e-e34c-4058-e7ef-cfe781c8670e"
      },
      "execution_count": 3,
      "outputs": [
        {
          "output_type": "stream",
          "name": "stdout",
          "text": [
            "compelet\n"
          ]
        },
        {
          "output_type": "stream",
          "name": "stderr",
          "text": [
            "Downloading...\n",
            "From: https://drive.google.com/uc?export=download&id=1IsZ2HP579LtWvQfmMp3fGMFiDaJfrWS5\n",
            "To: /content/working/ai_crops_model.keras\n",
            "100%|██████████| 4.47M/4.47M [00:00<00:00, 91.3MB/s]\n"
          ]
        },
        {
          "output_type": "stream",
          "name": "stdout",
          "text": [
            "Downloading File /content/working/ai_crops_model.keras ...\n",
            "Attempting to load the Crop Disease Detection Model {{output}}.\n",
            "The Crop Disease Detection Model loaded successfully!\n",
            "Model summary:\n"
          ]
        },
        {
          "output_type": "display_data",
          "data": {
            "text/plain": [],
            "text/html": [
              "<pre style=\"white-space:pre;overflow-x:auto;line-height:normal;font-family:Menlo,'DejaVu Sans Mono',consolas,'Courier New',monospace\"></pre>\n"
            ]
          },
          "metadata": {}
        },
        {
          "output_type": "stream",
          "name": "stdout",
          "text": [
            "Model: \"sequential_4\"\n",
            "┏━━━━━━━━━━━━━━━━━━━━━━━━━━━━━━━━━┳━━━━━━━━━━━━━━━━━━━━━━━━┳━━━━━━━━━━━━━━━┓\n",
            "┃ Layer (type)                    ┃ Output Shape           ┃       Param # ┃\n",
            "┡━━━━━━━━━━━━━━━━━━━━━━━━━━━━━━━━━╇━━━━━━━━━━━━━━━━━━━━━━━━╇━━━━━━━━━━━━━━━┩\n",
            "│ conv2d_18 (Conv2D)              │ (None, 222, 222, 32)   │           896 │\n",
            "├─────────────────────────────────┼────────────────────────┼───────────────┤\n",
            "│ conv2d_19 (Conv2D)              │ (None, 220, 220, 32)   │         9,248 │\n",
            "├─────────────────────────────────┼────────────────────────┼───────────────┤\n",
            "│ max_pooling2d_9 (MaxPooling2D)  │ (None, 110, 110, 32)   │             0 │\n",
            "├─────────────────────────────────┼────────────────────────┼───────────────┤\n",
            "│ conv2d_20 (Conv2D)              │ (None, 108, 108, 64)   │        18,496 │\n",
            "├─────────────────────────────────┼────────────────────────┼───────────────┤\n",
            "│ conv2d_21 (Conv2D)              │ (None, 106, 106, 64)   │        36,928 │\n",
            "├─────────────────────────────────┼────────────────────────┼───────────────┤\n",
            "│ max_pooling2d_10 (MaxPooling2D) │ (None, 53, 53, 64)     │             0 │\n",
            "├─────────────────────────────────┼────────────────────────┼───────────────┤\n",
            "│ conv2d_22 (Conv2D)              │ (None, 51, 51, 128)    │        73,856 │\n",
            "├─────────────────────────────────┼────────────────────────┼───────────────┤\n",
            "│ conv2d_23 (Conv2D)              │ (None, 49, 49, 128)    │       147,584 │\n",
            "├─────────────────────────────────┼────────────────────────┼───────────────┤\n",
            "│ max_pooling2d_11 (MaxPooling2D) │ (None, 24, 24, 128)    │             0 │\n",
            "├─────────────────────────────────┼────────────────────────┼───────────────┤\n",
            "│ global_average_pooling2d_1      │ (None, 128)            │             0 │\n",
            "│ (GlobalAveragePooling2D)        │                        │               │\n",
            "├─────────────────────────────────┼────────────────────────┼───────────────┤\n",
            "│ dense_4 (Dense)                 │ (None, 256)            │        33,024 │\n",
            "├─────────────────────────────────┼────────────────────────┼───────────────┤\n",
            "│ batch_normalization_3           │ (None, 256)            │         1,024 │\n",
            "│ (BatchNormalization)            │                        │               │\n",
            "├─────────────────────────────────┼────────────────────────┼───────────────┤\n",
            "│ dropout_3 (Dropout)             │ (None, 256)            │             0 │\n",
            "├─────────────────────────────────┼────────────────────────┼───────────────┤\n",
            "│ dense_5 (Dense)                 │ (None, 128)            │        32,896 │\n",
            "├─────────────────────────────────┼────────────────────────┼───────────────┤\n",
            "│ batch_normalization_4           │ (None, 128)            │           512 │\n",
            "│ (BatchNormalization)            │                        │               │\n",
            "├─────────────────────────────────┼────────────────────────┼───────────────┤\n",
            "│ dropout_4 (Dropout)             │ (None, 128)            │             0 │\n",
            "├─────────────────────────────────┼────────────────────────┼───────────────┤\n",
            "│ dense_6 (Dense)                 │ (None, 64)             │         8,256 │\n",
            "├─────────────────────────────────┼────────────────────────┼───────────────┤\n",
            "│ batch_normalization_5           │ (None, 64)             │           256 │\n",
            "│ (BatchNormalization)            │                        │               │\n",
            "├─────────────────────────────────┼────────────────────────┼───────────────┤\n",
            "│ dropout_5 (Dropout)             │ (None, 64)             │             0 │\n",
            "├─────────────────────────────────┼────────────────────────┼───────────────┤\n",
            "│ dense_7 (Dense)                 │ (None, 38)             │         2,470 │\n",
            "└─────────────────────────────────┴────────────────────────┴───────────────┘\n",
            " Total params: 1,094,548 (4.18 MB)\n",
            " Trainable params: 364,550 (1.39 MB)\n",
            " Non-trainable params: 896 (3.50 KB)\n",
            " Optimizer params: 729,102 (2.78 MB)\n",
            "\n"
          ]
        }
      ]
    },
    {
      "cell_type": "code",
      "execution_count": 4,
      "metadata": {
        "colab": {
          "base_uri": "https://localhost:8080/"
        },
        "id": "kU_8ZFGKVKib",
        "outputId": "d2f382b2-e647-4657-d8d5-e2d9164125fb"
      },
      "outputs": [
        {
          "output_type": "stream",
          "name": "stdout",
          "text": [
            "Writing app.py\n"
          ]
        }
      ],
      "source": [
        "%%writefile app.py\n",
        "import streamlit as st\n",
        "from PIL import Image\n",
        "from tensorflow.keras.models import load_model\n",
        "from keras.preprocessing.image import load_img, img_to_array\n",
        "import tempfile\n",
        "import os\n",
        "import numpy as np\n",
        "import gdown\n",
        "\n",
        "st.title(\"Crop Disease Detection\")\n",
        "\n",
        "os.makedirs('/content/working', exist_ok=True)\n",
        "\n",
        "file_id = '1ArPM3W6AxKOEAy823-YXLTgE7O51FEd3'# '1m9OE6332qORvAMsoctDS7JofrbiVsk6R'  # replace with your actual file ID\n",
        "url = f'https://drive.google.com/uc?export=download&id={file_id}'\n",
        "\n",
        "# Output file name\n",
        "output = '/content/working/diseases_labels'\n",
        "\n",
        "if not os.path.exists(output):\n",
        "  gdown.download(url, output, quiet=False)\n",
        "  st.write(f\"Downloading File {output} ...\")\n",
        "else:\n",
        "  st.write(f\"File found at {output}\")\n",
        "\n",
        "with open(output, \"r\") as f:\n",
        "  class_labels = [line.strip() for line in f ]\n",
        "\n",
        "file_id = '1IsZ2HP579LtWvQfmMp3fGMFiDaJfrWS5'  # replace with your actual file ID\n",
        "url = f'https://drive.google.com/uc?export=download&id={file_id}'\n",
        "\n",
        "# Output file name\n",
        "output = '/content/working/ai_crops_model.keras'\n",
        "\n",
        "if not os.path.exists(output):\n",
        "  gdown.download(url, output, quiet=False)\n",
        "  st.write(f\"Downloading File {output} ...\")\n",
        "else:\n",
        "  st.write(f\"File found at {output}\")\n",
        "\n",
        "if os.path.exists(output):\n",
        "  st.write(f\"Attempting to load the model {output}.\")\n",
        "  # st.write(\"Attempting to load the Crop Disease Detection Model.\")\n",
        "\n",
        "  model = load_model(output)\n",
        "  st.success(\"The Crop Disease Detection Model loaded successfully!\")\n",
        "  # st.write(\"Model summary:\")\n",
        "\n",
        "  # # Display model summary as text\n",
        "  # stringlist = []\n",
        "  # model.summary(print_fn=lambda x: stringlist.append(x))\n",
        "  # summary = \"\\n\".join(stringlist)\n",
        "  # st.text(summary)\n",
        "\n",
        "else:\n",
        "  st.error(f\"File not found at {output}\")\n",
        "\n",
        "  # Optionally remove the temp file\n",
        "  # os.remove(tmp_path)\n",
        "\n",
        "\n",
        "# File uploader\n",
        "uploaded_file = st.file_uploader(\"Choose an image...\", type=[\"jpg\", \"jpeg\", \"png\"])\n",
        "\n",
        "# If an image is uploaded\n",
        "if uploaded_file is not None:\n",
        "    # Open the image\n",
        "    image = Image.open(uploaded_file)\n",
        "\n",
        "    # Display image details\n",
        "    st.write(\"**Filename:**\", uploaded_file.name)\n",
        "    st.write(\"**Format:**\", image.format)\n",
        "    st.write(\"**Size:**\", image.size)\n",
        "\n",
        "    # Show the image\n",
        "    st.image(image, caption=\"Uploaded Image\")\n",
        "\n",
        "    # Resize to model's expected input size\n",
        "    target_size = model.input_shape[1:3]  # (height, width)\n",
        "    image = image.resize(target_size)\n",
        "\n",
        "    img_array = np.array(image) / 255.0  # Normalize to [0,1]\n",
        "    img_array = np.expand_dims(img_array, axis=0)  # Add batch dimension\n",
        "\n",
        "    # Make prediction\n",
        "    prediction = model.predict(img_array)\n",
        "    predicted_class = np.argmax(prediction, axis=1)[0]\n",
        "\n",
        "    # extract the label (name of image)\n",
        "    true_label = uploaded_file.name.split('.')[0]\n",
        "\n",
        "    # get the prediction class\n",
        "    # class_labels = list(train_data.class_indices.keys())\n",
        "    predicted_label = class_labels[predicted_class]\n",
        "\n",
        "    # st.write(f\"**True Label:** {true_label}\")\n",
        "    st.write(f\"**predicted_class:** {predicted_class}\")\n",
        "    st.success(f\"**Predicted Crop Disease:** {predicted_label}\")\n",
        "\n"
      ]
    },
    {
      "cell_type": "code",
      "source": [
        "# !streamlit run app.py"
      ],
      "metadata": {
        "id": "yjRoKG2ggjlR"
      },
      "execution_count": 5,
      "outputs": []
    },
    {
      "cell_type": "code",
      "source": [
        "# Run Streamlit in the background\n",
        "!streamlit run app.py &> /dev/null &"
      ],
      "metadata": {
        "id": "hzMByukJfHR8"
      },
      "execution_count": 11,
      "outputs": []
    },
    {
      "cell_type": "code",
      "source": [
        "!pkill streamlit"
      ],
      "metadata": {
        "id": "FDgj-mELfEeb"
      },
      "execution_count": 7,
      "outputs": []
    },
    {
      "cell_type": "code",
      "source": [
        "os.environ[\"PYNGROK_AUTH_TOKEN\"] = \"2qcUGt9fCxy5WOjkYKr8jFezsIi_28X6rg2bmAAV3MeUBNWRV\""
      ],
      "metadata": {
        "id": "HEwbp_MLcVgu"
      },
      "execution_count": 9,
      "outputs": []
    },
    {
      "cell_type": "code",
      "source": [
        "from pyngrok import ngrok\n",
        "import os\n",
        "import subprocess\n",
        "\n",
        "# Kill any existing tunnels\n",
        "ngrok.kill()\n",
        "\n",
        "# ngrok_authtoken = os.environ.get(\"NGROK_AUTHTOKEN\", \"cr_2qcUGt9fCxy5WOjkYKr8jFezsIi\") # Consider setting NGROK_AUTHTOKEN as an environment variable\n",
        "ngrok_authtoken = os.getenv(\"PYNGROK_AUTH_TOKEN\")\n",
        "\n",
        "\n",
        "# Set the ngrok authtoken\n",
        "try:\n",
        "    ngrok.set_auth_token(ngrok_authtoken)\n",
        "    print(\"Ngrok authtoken set successfully.\")\n",
        "\n",
        "    # Open a tunnel to streamlit port 8501\n",
        "    http_tunnel = ngrok.connect(8501)\n",
        "    print(\"Public URL:\", http_tunnel.public_url)\n",
        "except Exception as e:\n",
        "    print(f\"Error setting ngrok authtoken: {e}\")\n",
        "    # Handle the error appropriately, e.g., exit or prompt the user\n",
        "\n",
        "# # Start Streamlit app\n",
        "# subprocess.Popen([\"streamlit\", \"run\", \"main.py\"])\n"
      ],
      "metadata": {
        "colab": {
          "base_uri": "https://localhost:8080/"
        },
        "id": "2uyVdoUrYZgQ",
        "outputId": "37a88b82-3800-4408-ac1a-8e2d288c2d70"
      },
      "execution_count": 10,
      "outputs": [
        {
          "output_type": "stream",
          "name": "stdout",
          "text": [
            "Ngrok authtoken set successfully.\n",
            "Public URL: https://76d9-34-9-52-177.ngrok-free.app\n"
          ]
        }
      ]
    }
  ]
}
