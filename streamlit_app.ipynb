{
  "nbformat": 4,
  "nbformat_minor": 0,
  "metadata": {
    "colab": {
      "provenance": [],
      "authorship_tag": "ABX9TyNyQ/ZBtOxjO+uD65M9mi7n",
      "include_colab_link": true
    },
    "kernelspec": {
      "name": "python3",
      "display_name": "Python 3"
    },
    "language_info": {
      "name": "python"
    }
  },
  "cells": [
    {
      "cell_type": "markdown",
      "metadata": {
        "id": "view-in-github",
        "colab_type": "text"
      },
      "source": [
        "<a href=\"https://colab.research.google.com/github/hajyhia/Plant-Diseases-Classification/blob/main/streamlit_app.ipynb\" target=\"_parent\"><img src=\"https://colab.research.google.com/assets/colab-badge.svg\" alt=\"Open In Colab\"/></a>"
      ]
    },
    {
      "cell_type": "code",
      "source": [
        "!pip install streamlit pyngrok\n",
        "!pip install gdown\n",
        "!pip install tensorflow\n",
        "!pip install keras\n",
        "!pip install numpy\n",
        "!pip install pillow\n",
        "!pip install pyngrok"
      ],
      "metadata": {
        "id": "DcJLxc6EXlPN"
      },
      "execution_count": null,
      "outputs": []
    },
    {
      "cell_type": "code",
      "source": [
        "import os\n",
        "import gdown\n",
        "\n",
        "file_id = '1ArPM3W6AxKOEAy823-YXLTgE7O51FEd3'# '1m9OE6332qORvAMsoctDS7JofrbiVsk6R'  # replace with your actual file ID\n",
        "url = f'https://drive.google.com/uc?export=download&id={file_id}'\n",
        "\n",
        "os.makedirs('/content/working', exist_ok=True)\n",
        "\n",
        "# Output file name\n",
        "output = '/content/working/diseases_labels'\n",
        "\n",
        "if not os.path.exists(output):\n",
        "  gdown.download(url, output, quiet=False)\n",
        "  print(f\"\\nDownloading File {output} ...\")\n",
        "else:\n",
        "  print(f\"File found at {output}\")\n",
        "\n",
        "with open(output, \"r\") as f:\n",
        "  class_labels = [line.strip() for line in f ]\n",
        "\n",
        "print('\\n'.join(class_labels))"
      ],
      "metadata": {
        "colab": {
          "base_uri": "https://localhost:8080/"
        },
        "id": "5SoQez1Ndy1z",
        "outputId": "70a9ce11-15a8-45c5-b2ea-1c97b04fa199"
      },
      "execution_count": 24,
      "outputs": [
        {
          "output_type": "stream",
          "name": "stderr",
          "text": [
            "Downloading...\n",
            "From: https://drive.google.com/uc?export=download&id=1ArPM3W6AxKOEAy823-YXLTgE7O51FEd3\n",
            "To: /content/working/diseases_labels\n",
            "100%|██████████| 984/984 [00:00<00:00, 1.69MB/s]"
          ]
        },
        {
          "output_type": "stream",
          "name": "stdout",
          "text": [
            "\n",
            "Downloading File /content/working/diseases_labels ...\n",
            "Apple___Apple_scab\n",
            "Apple___Black_rot\n",
            "Apple___Cedar_apple_rust\n",
            "Apple___healthy\n",
            "Blueberry___healthy\n",
            "Cherry_(including_sour)___Powdery_mildew\n",
            "Cherry_(including_sour)___healthy\n",
            "Corn_(maize)___Cercospora_leaf_spot Gray_leaf_spot\n",
            "Corn_(maize)___Common_rust_\n",
            "Corn_(maize)___Northern_Leaf_Blight\n",
            "Corn_(maize)___healthy\n",
            "Grape___Black_rot\n",
            "Grape___Esca_(Black_Measles)\n",
            "Grape___Leaf_blight_(Isariopsis_Leaf_Spot)\n",
            "Grape___healthy\n",
            "Orange___Haunglongbing_(Citrus_greening)\n",
            "Peach___Bacterial_spot\n",
            "Peach___healthy\n",
            "Pepper,_bell___Bacterial_spot\n",
            "Pepper,_bell___healthy\n",
            "Potato___Early_blight\n",
            "Potato___Late_blight\n",
            "Potato___healthy\n",
            "Raspberry___healthy\n",
            "Soybean___healthy\n",
            "Squash___Powdery_mildew\n",
            "Strawberry___Leaf_scorch\n",
            "Strawberry___healthy\n",
            "Tomato___Bacterial_spot\n",
            "Tomato___Early_blight\n",
            "Tomato___Late_blight\n",
            "Tomato___Leaf_Mold\n",
            "Tomato___Septoria_leaf_spot\n",
            "Tomato___Spider_mites Two-spotted_spider_mite\n",
            "Tomato___Target_Spot\n",
            "Tomato___Tomato_Yellow_Leaf_Curl_Virus\n",
            "Tomato___Tomato_mosaic_virus\n",
            "Tomato___healthy\n"
          ]
        },
        {
          "output_type": "stream",
          "name": "stderr",
          "text": [
            "\n"
          ]
        }
      ]
    },
    {
      "cell_type": "code",
      "source": [
        "import tensorflow as tf\n",
        "from tensorflow.keras.preprocessing.image import ImageDataGenerator\n",
        "from tensorflow.keras.models import Sequential\n",
        "from tensorflow.keras.layers import Conv2D, MaxPooling2D, Flatten, Dense, Dropout\n",
        "from keras.models import load_model\n",
        "import numpy as np\n",
        "import os\n",
        "import gdown\n",
        "import warnings\n",
        "warnings.filterwarnings('ignore')\n",
        "print('compelet')\n",
        "\n",
        "\n",
        "file_id = '130Q9OKIFUTz5a-i1-oCge0pAF1vuEa-C' #'1IsZ2HP579LtWvQfmMp3fGMFiDaJfrWS5'  # replace with your actual file ID\n",
        "url = f'https://drive.google.com/uc?export=download&id={file_id}'\n",
        "\n",
        "os.makedirs('/content/working', exist_ok=True)\n",
        "\n",
        "# Output file name\n",
        "output = '/content/working/cnn_crops_model.keras'\n",
        "\n",
        "if not os.path.exists(output):\n",
        "  gdown.download(url, output, quiet=False)\n",
        "  print(f\"Downloading File {output} ...\")\n",
        "else:\n",
        "  print(f\"File found at {output}\")\n",
        "\n",
        "if os.path.exists(output):\n",
        "  print(\"Attempting to load the Crop Disease Detection Model {{output}}.\")\n",
        "\n",
        "  model = load_model(output)\n",
        "  print(\"The Crop Disease Detection Model loaded successfully!\")\n",
        "  print(\"Model summary:\")\n",
        "\n",
        "  # Display model summary as text\n",
        "  stringlist = []\n",
        "  model.summary(print_fn=lambda x: stringlist.append(x))\n",
        "  summary = \"\\n\".join(stringlist)\n",
        "  print(summary)\n",
        "\n",
        "else:\n",
        "  st.error(f\"File not found at {output}\")\n",
        "\n",
        "  # Optionally remove the temp file\n",
        "  # os.remove(tmp_path)\n"
      ],
      "metadata": {
        "id": "ADEX-f3Lg8TF"
      },
      "execution_count": null,
      "outputs": []
    },
    {
      "cell_type": "code",
      "execution_count": 63,
      "metadata": {
        "colab": {
          "base_uri": "https://localhost:8080/"
        },
        "id": "kU_8ZFGKVKib",
        "outputId": "cf598cbd-9119-4f6e-f958-f4a4745c9724"
      },
      "outputs": [
        {
          "output_type": "stream",
          "name": "stdout",
          "text": [
            "Overwriting app.py\n"
          ]
        }
      ],
      "source": [
        "%%writefile app.py\n",
        "import streamlit as st\n",
        "from PIL import Image\n",
        "from tensorflow.keras.models import load_model\n",
        "from keras.preprocessing.image import load_img, img_to_array\n",
        "import tempfile\n",
        "import os\n",
        "import numpy as np\n",
        "import gdown\n",
        "\n",
        "st.title(\"Crop Disease Detection\")\n",
        "\n",
        "os.makedirs('/content/working', exist_ok=True)\n",
        "\n",
        "# file_id = '130Q9OKIFUTz5a-i1-oCge0pAF1vuEa-C' #'1IsZ2HP579LtWvQfmMp3fGMFiDaJfrWS5'  # replace with your actual file ID\n",
        "# url = f'https://drive.google.com/uc?export=download&id={file_id}'\n",
        "\n",
        "# # Output file name\n",
        "# output = '/content/working/diseases_labels'\n",
        "\n",
        "# if not os.path.exists(output):\n",
        "#   gdown.download(url, output, quiet=False)\n",
        "#   st.write(f\"Downloading File {output} ...\")\n",
        "# else:\n",
        "#   st.write(f\"File found at {output}\")\n",
        "\n",
        "# with open(output, \"r\") as f:\n",
        "#   class_labels = [line.strip() for line in f ]\n",
        "class_labels = class_labels = ['Apple___Apple_scab',\n",
        " 'Apple___Black_rot',\n",
        " 'Apple___Cedar_apple_rust',\n",
        " 'Apple___healthy',\n",
        " 'Blueberry___healthy',\n",
        " 'Cherry_(including_sour)___Powdery_mildew',\n",
        " 'Cherry_(including_sour)___healthy',\n",
        " 'Corn_(maize)___Cercospora_leaf_spot Gray_leaf_spot',\n",
        " 'Corn_(maize)___Common_rust_',\n",
        " 'Corn_(maize)___Northern_Leaf_Blight',\n",
        " 'Corn_(maize)___healthy',\n",
        " 'Grape___Black_rot',\n",
        " 'Grape___Esca_(Black_Measles)',\n",
        " 'Grape___Leaf_blight_(Isariopsis_Leaf_Spot)',\n",
        " 'Grape___healthy',\n",
        " 'Orange___Haunglongbing_(Citrus_greening)',\n",
        " 'Peach___Bacterial_spot',\n",
        " 'Peach___healthy',\n",
        " 'Pepper,_bell___Bacterial_spot',\n",
        " 'Pepper,_bell___healthy',\n",
        " 'Potato___Early_blight',\n",
        " 'Potato___Late_blight',\n",
        " 'Potato___healthy',\n",
        " 'Raspberry___healthy',\n",
        " 'Soybean___healthy',\n",
        " 'Squash___Powdery_mildew',\n",
        " 'Strawberry___Leaf_scorch',\n",
        " 'Strawberry___healthy',\n",
        " 'Tomato___Bacterial_spot',\n",
        " 'Tomato___Early_blight',\n",
        " 'Tomato___Late_blight',\n",
        " 'Tomato___Leaf_Mold',\n",
        " 'Tomato___Septoria_leaf_spot',\n",
        " 'Tomato___Spider_mites Two-spotted_spider_mite',\n",
        " 'Tomato___Target_Spot',\n",
        " 'Tomato___Tomato_Yellow_Leaf_Curl_Virus',\n",
        " 'Tomato___Tomato_mosaic_virus',\n",
        " 'Tomato___healthy']\n",
        "class_labels = list(class_labels)\n",
        "\n",
        "file_id = '1IsZ2HP579LtWvQfmMp3fGMFiDaJfrWS5'  # replace with your actual file ID\n",
        "url = f'https://drive.google.com/uc?export=download&id={file_id}'\n",
        "\n",
        "# Output file name\n",
        "output = '/content/working/cnn_crops_model.keras'\n",
        "output_MobileNetV2 = '/content/working/cnn_crops_MobileNetV2.keras'\n",
        "\n",
        "if not os.path.exists(output):\n",
        "  st.write(f\"Downloading File '{output.split('/')[3]}' ...\")\n",
        "  gdown.download(url, output, quiet=False)\n",
        "  gdown.download('https://drive.google.com/uc?export=download&id=1ijhAbY12g7eAch5vXxLBkiA7BwDVOH1s', output_MobileNetV2, quiet=False)\n",
        "else:\n",
        "  st.write(f\"File '{output.split('/')[3]}' was found\")\n",
        "\n",
        "if os.path.exists(output):\n",
        "  st.write(f\"Attempting to load the model '{output.split('/')[3]}'.\")\n",
        "\n",
        "  model = load_model(output)\n",
        "  MobileNetV2 = load_model(output_MobileNetV2)\n",
        "  st.success(\"The Crop Disease Detection Model loaded successfully!\")\n",
        "\n",
        "else:\n",
        "  st.error(f\"File not found at {output}\")\n",
        "\n",
        "  # Optionally remove the temp file\n",
        "  # os.remove(tmp_path)\n",
        "\n",
        "# Create a checkbox\n",
        "use_MobileNetV2 = st.checkbox(\"Use MobileNetV2 Model\")\n",
        "\n",
        "# File uploader\n",
        "uploaded_file = st.file_uploader(\"Choose an image...\", type=[\"jpg\", \"jpeg\", \"png\"])\n",
        "\n",
        "# If an image is uploaded\n",
        "if uploaded_file is not None:\n",
        "    # Open the image\n",
        "    image = Image.open(uploaded_file)\n",
        "\n",
        "    # Display image details\n",
        "    st.write(\"**Filename:**\", uploaded_file.name)\n",
        "    st.write(\"**Format:**\", image.format)\n",
        "    st.write(\"**Size:**\", image.size)\n",
        "\n",
        "    # Show the image\n",
        "    st.image(image, caption=\"Uploaded Image\")\n",
        "\n",
        "    # Resize to model's expected input size\n",
        "    target_size = model.input_shape[1:3]  # (height, width)\n",
        "    image = image.resize(target_size)\n",
        "\n",
        "    img_array = np.array(image) / 255.0  # Normalize to [0,1]\n",
        "    img_array = np.expand_dims(img_array, axis=0)  # Add batch dimension\n",
        "\n",
        "    # Make prediction\n",
        "    prediction = model.predict(img_array)\n",
        "    if use_MobileNetV2:\n",
        "      prediction = MobileNetV2.predict(img_array)\n",
        "\n",
        "    # Get the predicted class\n",
        "    predicted_class = np.argmax(prediction, axis=1)[0]\n",
        "\n",
        "    # extract the label (name of image)\n",
        "    true_label = uploaded_file.name.split('.')[0]\n",
        "\n",
        "    # get the prediction class\n",
        "    # class_labels = list(train_data.class_indices.keys())\n",
        "    predicted_label = class_labels[predicted_class]\n",
        "\n",
        "    # st.write(f\"**True Label:** {true_label}\")\n",
        "    st.write(f\"**predicted_class:** {predicted_class}\")\n",
        "    st.success(f\"**Predicted Crop Disease:** {predicted_label}\")\n",
        "\n",
        "# Create a checkbox\n",
        "show_text = st.checkbox(\"Show Model Summary\")\n",
        "\n",
        "# Conditional logic\n",
        "if show_text:\n",
        "  st.write(\"Model summary:\")\n",
        "\n",
        "  # Display model summary as text\n",
        "  stringlist = []\n",
        "  if use_MobileNetV2:\n",
        "    MobileNetV2.summary(print_fn=lambda x: stringlist.append(x))\n",
        "  else:\n",
        "    model.summary(print_fn=lambda x: stringlist.append(x))\n",
        "  summary = \"\\n\".join(stringlist)\n",
        "  st.text(summary)"
      ]
    },
    {
      "cell_type": "code",
      "source": [
        "# Run Streamlit in the background\n",
        "!streamlit run app.py &> /dev/null &"
      ],
      "metadata": {
        "id": "hzMByukJfHR8"
      },
      "execution_count": 53,
      "outputs": []
    },
    {
      "cell_type": "code",
      "source": [
        "!pkill streamlit"
      ],
      "metadata": {
        "id": "FDgj-mELfEeb"
      },
      "execution_count": 52,
      "outputs": []
    },
    {
      "cell_type": "code",
      "source": [
        "from pyngrok import ngrok\n",
        "import os\n",
        "import subprocess\n",
        "from google.colab import userdata\n",
        "\n",
        "os.environ[\"PYNGROK_AUTH_TOKEN\"] = userdata.get('pyngrok_auth_token')\n",
        "\n",
        "# Kill any existing tunnels\n",
        "ngrok.kill()\n",
        "\n",
        "ngrok_authtoken = os.getenv(\"PYNGROK_AUTH_TOKEN\")\n",
        "\n",
        "\n",
        "# Set the ngrok authtoken\n",
        "try:\n",
        "    ngrok.set_auth_token(ngrok_authtoken)\n",
        "    print(\"Ngrok authtoken set successfully.\")\n",
        "\n",
        "    # Open a tunnel to streamlit port 8501\n",
        "    http_tunnel = ngrok.connect(8501)\n",
        "    print(\"Public URL:\", http_tunnel.public_url)\n",
        "except Exception as e:\n",
        "    print(f\"Error setting ngrok authtoken: {e}\")\n",
        "    # Handle the error appropriately, e.g., exit or prompt the user\n",
        "\n",
        "# # Start Streamlit app\n",
        "# subprocess.Popen([\"streamlit\", \"run\", \"main.py\"])\n"
      ],
      "metadata": {
        "colab": {
          "base_uri": "https://localhost:8080/"
        },
        "id": "2uyVdoUrYZgQ",
        "outputId": "a4732797-8660-4853-9629-5f986be2f0fd"
      },
      "execution_count": 6,
      "outputs": [
        {
          "output_type": "stream",
          "name": "stdout",
          "text": [
            "Ngrok authtoken set successfully.\n",
            "Public URL: https://9801-34-83-157-182.ngrok-free.app\n"
          ]
        }
      ]
    }
  ]
}